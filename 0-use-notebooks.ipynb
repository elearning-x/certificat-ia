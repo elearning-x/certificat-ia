{
 "cells": [
  {
   "cell_type": "markdown",
   "id": "088f5ad5",
   "metadata": {},
   "source": [
    "<div class=\"licence\">\n",
    "<span>Licence CC BY-NC-ND</span>\n",
    "<span>Thierry Parmentelat &amp; Arnaud Legout</span>\n",
    "<span><img src=\"media/both-logos-small-alpha.png\" /></span>\n",
    "</div>"
   ]
  },
  {
   "attachments": {},
   "cell_type": "markdown",
   "id": "fee53313",
   "metadata": {},
   "source": [
    "# Jupyter notebooks as course material"
   ]
  },
  {
   "attachments": {},
   "cell_type": "markdown",
   "id": "1416478e",
   "metadata": {},
   "source": [
    "To illustrate the MOOC videos, we have chosen to use Jupyter to write \"mixed\" documents containing text and Python code, called \"notebooks\", of which the present document is an example.\n",
    "\n",
    "In the following, we will use Python code, but we have not yet learned about the language. Don't worry, this code is only intended to validate the operation of notebooks, and we only use very simple things."
   ]
  },
  {
   "attachments": {},
   "cell_type": "markdown",
   "id": "de5635cf",
   "metadata": {},
   "source": [
    "### Warning: browser settings"
   ]
  },
  {
   "attachments": {},
   "cell_type": "markdown",
   "id": "cb32b3f1",
   "metadata": {},
   "source": [
    "First of all, for a good behavior of the notebooks, we remind you that it is necessary to have **authorized** in your browser the **cookies** coming from the website **`nbhosting.inria.fr`**, which hosts the infrastructure that hosts all the notebooks."
   ]
  },
  {
   "attachments": {},
   "cell_type": "markdown",
   "id": "74367638",
   "metadata": {},
   "source": [
    "### Advantages of notebooks"
   ]
  },
  {
   "attachments": {},
   "cell_type": "markdown",
   "id": "4218f214",
   "metadata": {},
   "source": [
    "As you can see, this support allows a more readable format than comments in a code file."
   ]
  },
  {
   "attachments": {},
   "cell_type": "markdown",
   "id": "b96750a2",
   "metadata": {},
   "source": [
    "Please note that **the code fragments can be evaluated and modified**. So you can easily try out variants based on the original notebook.\n",
    "\n",
    "Also note that the Python code is interpreted **on a remote machine**, which allows you to make your first attempts before you have even installed Python on your own computer."
   ]
  },
  {
   "attachments": {},
   "cell_type": "markdown",
   "id": "5f3dee57",
   "metadata": {},
   "source": [
    "### How to use notebooks"
   ]
  },
  {
   "attachments": {},
   "cell_type": "markdown",
   "id": "3271232e",
   "metadata": {},
   "source": [
    "At the top of the notebook, you have a menu bar (on a light blue background), containing:\n",
    "\n",
    "* a title for the notebook, with a version number ;\n",
    "* a menu bar with the entries `File`, `Insert`, `Cell`, `Kernel`;\n",
    "* and a button bar which are shortcuts to some frequently used menus. If you leave your mouse over a button, a small text appears, indicating which function the button corresponds to.\n",
    "\n",
    "We saw in the video that a notebook is made up of a series of cells, either textual or containing code. The code cells are easily recognizable, they are preceded by `In [ ]:`. The cell after the one you are reading is a code cell.\n",
    "\n",
    "To begin, select that code cell with your mouse, and press the one in the menu bar - at the top of the notebook, that is - the one shaped like a triangular arrow to the right (Play):\n",
    "<img src=\"media/notebook-eval-button.png\">"
   ]
  },
  {
   "cell_type": "code",
   "execution_count": null,
   "id": "4a52562c",
   "metadata": {
    "vscode": {
     "languageId": "python"
    }
   },
   "outputs": [],
   "source": [
    "20 * 30"
   ]
  },
  {
   "attachments": {},
   "cell_type": "markdown",
   "id": "3fd05117",
   "metadata": {},
   "source": [
    "As you can see, the cell is \"executed\" (we would rather say evaluated), and we move to the next cell.\n",
    "\n",
    "Alternatively, you can simply type ***Shift+Enter***, to get the same effect. Generally speaking, it is important to learn and use keyboard shortcuts, as this will save you a lot of time later on."
   ]
  },
  {
   "cell_type": "markdown",
   "id": "53b2416a",
   "metadata": {},
   "source": [
    "La façon habituelle d'*exécuter* l'ensemble du notebook consiste :\n",
    "\n",
    "* à sélectionner la première cellule,\n",
    "* et à taper ***Shift+Enter*** jusqu'à atteindre la fin du notebook."
   ]
  },
  {
   "attachments": {},
   "cell_type": "markdown",
   "id": "a9da9b91",
   "metadata": {},
   "source": [
    "When a code cell has been evaluated, Jupyter adds an `Out` cell below the `In` cell that gives the result of the Python fragment, i.e. above 600.\n",
    "\n",
    "Jupyter also adds a number between the square brackets to show, for example above, `In [1]:`. This number allows you to find the order in which the cells were evaluated."
   ]
  },
  {
   "attachments": {},
   "cell_type": "markdown",
   "id": "93d7b05b",
   "metadata": {},
   "source": [
    "Of course, you can modify these code cells for testing purposes; for example, you can use the model below to calculate the square root of 3, or try the function on a negative number and see how the error is reported."
   ]
  },
  {
   "cell_type": "code",
   "execution_count": null,
   "id": "b42769cc",
   "metadata": {
    "vscode": {
     "languageId": "python"
    }
   },
   "outputs": [],
   "source": [
    "# math.sqrt (pour square root) calcule la racine carrée\n",
    "import math\n",
    "math.sqrt(2)"
   ]
  },
  {
   "attachments": {},
   "cell_type": "markdown",
   "id": "86f3f0bb",
   "metadata": {},
   "source": [
    "You can also evaluate the whole notebook at once by using the *Cell -> Run All* menu."
   ]
  },
  {
   "attachments": {},
   "cell_type": "markdown",
   "id": "d413c4f9",
   "metadata": {},
   "source": [
    "### Be careful to evaluate the cells in the right order"
   ]
  },
  {
   "attachments": {},
   "cell_type": "markdown",
   "id": "089c8d95",
   "metadata": {},
   "source": [
    "It is important that the code cells are evaluated in the correct order. If you don't respect the order in which the code cells are presented, the result may be unexpected.\n",
    "\n",
    "In fact, evaluating a program in notebook form is like cutting it into small fragments, and if you run these fragments out of order, you will naturally get a different program."
   ]
  },
  {
   "attachments": {},
   "cell_type": "markdown",
   "id": "8a0581ad",
   "metadata": {},
   "source": [
    "We can see it on this example:"
   ]
  },
  {
   "cell_type": "code",
   "execution_count": null,
   "id": "4978acc6",
   "metadata": {
    "vscode": {
     "languageId": "python"
    }
   },
   "outputs": [],
   "source": [
    "message = \"Pay attention to the order in which you evaluate the notebooks\""
   ]
  },
  {
   "cell_type": "code",
   "execution_count": null,
   "id": "fc5e072d",
   "metadata": {
    "vscode": {
     "languageId": "python"
    }
   },
   "outputs": [],
   "source": [
    "print(message)"
   ]
  },
  {
   "attachments": {},
   "cell_type": "markdown",
   "id": "31456b9c",
   "metadata": {},
   "source": [
    "If a little further in the notebook we do for example :"
   ]
  },
  {
   "cell_type": "code",
   "execution_count": null,
   "id": "1708b63c",
   "metadata": {
    "vscode": {
     "languageId": "python"
    }
   },
   "outputs": [],
   "source": [
    "# this will clear the 'message' variable\n",
    "del message"
   ]
  },
  {
   "attachments": {},
   "cell_type": "markdown",
   "id": "8ccaa619",
   "metadata": {},
   "source": [
    "which makes the `message` symbol undefined, then of course we can no longer evaluate the cell that does `print` since the `message` variable is no longer known to the interpreter."
   ]
  },
  {
   "attachments": {},
   "cell_type": "markdown",
   "id": "fd024e90",
   "metadata": {},
   "source": [
    "### Reset the interpreter"
   ]
  },
  {
   "attachments": {},
   "cell_type": "markdown",
   "id": "c9fb634e",
   "metadata": {},
   "source": [
    "If you make too many changes, or lose track of what you've been evaluating, it can be useful to restart your interpreter. The *Kernel → Restart* menu allows you to do this, much in the way that IDLE restarts from a blank interpreter when you use the F5 function."
   ]
  },
  {
   "attachments": {},
   "cell_type": "markdown",
   "id": "24ef19a9",
   "metadata": {},
   "source": [
    "The *Kernel → Interrupt* menu, on the other hand, can be used if your fragment takes too long to execute (for example you have written a loop whose logic is broken and does not finish)."
   ]
  },
  {
   "attachments": {},
   "cell_type": "markdown",
   "id": "af2d4803",
   "metadata": {},
   "source": [
    "### You are working on a copy"
   ]
  },
  {
   "attachments": {},
   "cell_type": "markdown",
   "id": "d83145de",
   "metadata": {},
   "source": [
    "One of the main advantages of notebooks is that they allow you to modify the code we have written, and see for yourself how the modified code performs.\n",
    "\n",
    "For this reason, each student has their **own copy** of each notebook, so of course you can make any changes you want to your notebooks without affecting the other students."
   ]
  },
  {
   "attachments": {},
   "cell_type": "markdown",
   "id": "3ba48536",
   "metadata": {},
   "source": [
    "### Go back to the course version"
   ]
  },
  {
   "attachments": {},
   "cell_type": "markdown",
   "id": "13414a26",
   "metadata": {},
   "source": [
    "You can always go back to the \"course\" version with the menu\n",
    "*File → Reset to original*."
   ]
  },
  {
   "attachments": {},
   "cell_type": "markdown",
   "id": "0dcd4767",
   "metadata": {},
   "source": [
    "Be careful, with this function you restore **all the notebook** and therefore **you lose your modifications on this notebook**."
   ]
  },
  {
   "attachments": {},
   "cell_type": "markdown",
   "id": "5a862148",
   "metadata": {},
   "source": [
    "### Download in Python format"
   ]
  },
  {
   "attachments": {},
   "cell_type": "markdown",
   "id": "876c123c",
   "metadata": {},
   "source": [
    "You can download a notebook in Python format to your computer using the menu\n",
    "*File → Download as → Python*"
   ]
  },
  {
   "attachments": {},
   "cell_type": "markdown",
   "id": "354001a6",
   "metadata": {},
   "source": [
    "Text cells are preserved in the result as Python comments."
   ]
  },
  {
   "attachments": {},
   "cell_type": "markdown",
   "id": "c1140124",
   "metadata": {},
   "source": [
    "### Share a read-only notebook"
   ]
  },
  {
   "attachments": {},
   "cell_type": "markdown",
   "id": "a21169e5",
   "metadata": {},
   "source": [
    "Finally, with the *File → Share static version* menu, you can publish a read-only version of your notebook; you get a URL that you can post, for example to ask for help on the forum. This way, other students can have read-only access to your code."
   ]
  },
  {
   "attachments": {},
   "cell_type": "markdown",
   "id": "f794b4b3",
   "metadata": {},
   "source": [
    "Note that when you use this feature multiple times, your classmates will always see the latest published version, the URL used is always the same for a given student and notebook."
   ]
  },
  {
   "attachments": {},
   "cell_type": "markdown",
   "id": "d3153648",
   "metadata": {},
   "source": [
    "### Add cells"
   ]
  },
  {
   "attachments": {},
   "cell_type": "markdown",
   "id": "ecdfe3c4",
   "metadata": {},
   "source": [
    "You can add a cell anywhere in the document with the **+** button on the button bar.\n",
    "\n",
    "Also, when you get to the end of the document, a new cell is created each time you evaluate the last cell, so you have a draft for your own testing.\n",
    "\n",
    "Now it is your turn."
   ]
  }
 ],
 "metadata": {
  "jupytext": {
   "cell_metadata_filter": "all, -hidden, -heading_collapsed, -run_control, -trusted",
   "notebook_metadata_filter": "all, -jupytext.text_representation.jupytext_version, -jupytext.text_representation.format_version, -language_info.version, -language_info.codemirror_mode.version, -language_info.codemirror_mode, -language_info.file_extension, -language_info.mimetype, -toc",
   "text_representation": {
    "extension": ".md",
    "format_name": "myst"
   }
  },
  "kernelspec": {
   "display_name": "Python 3 (ipykernel)",
   "language": "python",
   "name": "python3"
  }
 },
 "nbhosting": {
   "title": "Jupyter Notebook",
   "version": "3.0"
  }
 },
 "nbformat": 4,
 "nbformat_minor": 5
}
